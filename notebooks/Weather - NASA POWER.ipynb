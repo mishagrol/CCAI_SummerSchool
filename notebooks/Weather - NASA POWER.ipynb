{
 "cells": [
  {
   "cell_type": "code",
   "execution_count": 21,
   "id": "83cfbfcc",
   "metadata": {},
   "outputs": [],
   "source": [
    "import datetime as dt\n",
    "import numpy as np \n",
    "import pandas as pd\n",
    "import os\n",
    "import requests\n",
    "\n",
    "from math import log10, cos, sin, asin, sqrt, exp, pi, radians\n",
    "\n",
    "def csvdate_to_date(x, dateformat):\n",
    "    \"\"\"Converts string x to a datetime.date using given format.\n",
    "\n",
    "    :param x: the string representing a date\n",
    "    :param dateformat: a strptime() accepted date format\n",
    "    :return: a date\n",
    "    \"\"\"\n",
    "    dt_f = dt.datetime.strptime(str(x), dateformat)\n",
    "    dt_p = dt.datetime.strftime(dt_f, '%d.%m.%Y')\n",
    "    return dt_p\n",
    "\n",
    "\n",
    "# Conversion functions\n",
    "def NoConversion(x, d):\n",
    "    return float(x)\n",
    "\n",
    "\n",
    "def kJ_to_MJ(x, d):\n",
    "    return float(x)/1000.\n",
    "\n",
    "\n",
    "def mm_to_cm(x, d):\n",
    "    return float(x)/10.\n",
    "\n",
    "\n",
    "def kPa_to_hPa(x, d):\n",
    "    return float(x)*10.\n",
    "\n",
    "class NASA_POWER:\n",
    "\n",
    "    def __init__(self, latitude, longitude):\n",
    "        if latitude < -90 or latitude > 90:\n",
    "            msg = \"Latitude should be between -90 and 90 degrees.\"\n",
    "            raise ValueError(msg)\n",
    "        if longitude < -180 or longitude > 180:\n",
    "            msg = \"Longitude should be between -180 and 180 degrees.\"\n",
    "            raise ValueError(msg)\n",
    "\n",
    "        self.MJ_to_J = lambda x: x * 1e6\n",
    "        self.mm_to_cm = lambda x: x / 10.\n",
    "        self.tdew_to_hpa = lambda x: ea_from_tdew(x) * 10.\n",
    "        self.to_date = lambda d: d.date()\n",
    "        self.HTTP_OK = 200\n",
    "        self.angstA = 0.29\n",
    "        self.angstB = 0.49\n",
    "\n",
    "        self.latitude = latitude\n",
    "        self.longitude = longitude\n",
    "\n",
    "        self.power_variables = [\"TOA_SW_DWN\", \"ALLSKY_SFC_SW_DWN\", \"T2M\", \"T2M_MIN\",\n",
    "                            \"T2M_MAX\", \"T2MDEW\", \"WS2M\", \"PRECTOTCORR\", 'RH2M']\n",
    "        self._get_and_process_NASAPower(latitude, longitude)\n",
    "\n",
    "    def _get_and_process_NASAPower(self, latitude, longitude):\n",
    "            \"\"\"Handles the retrieval and processing of the NASA Power data\n",
    "            \"\"\"\n",
    "            powerdata = self._query_NASAPower_server(latitude, longitude)\n",
    "            if not powerdata:\n",
    "                msg = \"Failure retrieving POWER data from server. This can be a connection problem with \" \\\n",
    "                    \"the NASA POWER server, retry again later.\"\n",
    "                raise RuntimeError(msg)\n",
    "\n",
    "            # Store the informational header then parse variables\n",
    "            self.description = [powerdata[\"header\"][\"title\"]]\n",
    "            self.elevation = float(powerdata[\"geometry\"][\"coordinates\"][2])\n",
    "            \n",
    "            \n",
    "            df_power = self._process_POWER_records(powerdata)\n",
    "#             self.angstA, self.angstB = self._estimate_AngstAB(df_power)\n",
    "            weather_history = self._POWER_to_Pandas(df_power)\n",
    "            self.weather_history = weather_history\n",
    "            return weather_history\n",
    "    def _query_NASAPower_server(self, latitude, longitude):\n",
    "        start_date = dt.date(2010,1,1)\n",
    "        end_date = dt.date.today()\n",
    "        # build URL for retrieving data, using new NASA POWER api\n",
    "        server = \"https://power.larc.nasa.gov/api/temporal/daily/point\"\n",
    "        payload = {\"request\": \"execute\",\n",
    "                    \"parameters\": \",\".join(self.power_variables),\n",
    "                    \"latitude\": latitude,\n",
    "                    \"longitude\": longitude,\n",
    "                    \"start\": start_date.strftime(\"%Y%m%d\"),\n",
    "                    \"end\": end_date.strftime(\"%Y%m%d\"),\n",
    "                    \"community\": \"AG\",\n",
    "                    \"format\": \"JSON\",\n",
    "                    \"user\": \"anonymous\"\n",
    "                    }\n",
    "        req = requests.get(server, params=payload)\n",
    "\n",
    "        if req.status_code != self.HTTP_OK:\n",
    "            msg = (\"Failed retrieving POWER data, server returned HTTP \" +\n",
    "                    \"code: %i on following URL %s\") % (req.status_code, req.url)\n",
    "            raise ValueError(msg)\n",
    "\n",
    "        return req.json()\n",
    "\n",
    "    def _process_POWER_records(self, powerdata):\n",
    "        \"\"\"Process the meteorological records returned by NASA POWER\n",
    "        \"\"\"\n",
    "\n",
    "\n",
    "        fill_value = float(powerdata[\"header\"][\"fill_value\"])\n",
    "\n",
    "        df_power = {}\n",
    "        for varname in self.power_variables:\n",
    "            s = pd.Series(powerdata[\"properties\"][\"parameter\"][varname])\n",
    "            s[s == fill_value] = np.NaN\n",
    "            df_power[varname] = s\n",
    "        df_power = pd.DataFrame(df_power)\n",
    "        df_power[\"DAY\"] = pd.to_datetime(df_power.index, format=\"%Y%m%d\")\n",
    "\n",
    "        # find all rows with one or more missing values (NaN)\n",
    "        ix = df_power.isnull().any(axis=1)\n",
    "        # Get all rows without missing values\n",
    "        df_power = df_power[~ix]\n",
    "\n",
    "        return df_power\n",
    "    \n",
    "    def _POWER_to_Pandas(self, df_power):\n",
    "\n",
    "            weather_history = pd.DataFrame({\"date\": df_power.DAY,#.apply(self.to_date),\n",
    "                                    \"tavg\": df_power.T2M,\n",
    "                                    \"tmin\": df_power.T2M_MIN,\n",
    "                                    \"tmax\": df_power.T2M_MAX,\n",
    "                                    \"wind\": df_power.WS2M,\n",
    "                                    \"globrad\": df_power.ALLSKY_SFC_SW_DWN,\n",
    "                                    \"precip\": df_power.PRECTOTCORR,\n",
    "                                    \"relhumid\": df_power.RH2M})\n",
    "            weather_history = weather_history.reset_index(drop=True)\n",
    "            self.weather_history = weather_history\n",
    "            return weather_history\n",
    "        \n",
    "\n",
    "\n",
    "def round_geoposition(x, prec=1, base=.5):\n",
    "    return round(base * round(float(x)/base),prec)\n"
   ]
  },
  {
   "cell_type": "code",
   "execution_count": 28,
   "id": "97649a4d",
   "metadata": {},
   "outputs": [],
   "source": [
    "weather = NASA_POWER(latitude = 34.138000, longitude = -118.125000)"
   ]
  },
  {
   "cell_type": "code",
   "execution_count": 29,
   "id": "94f0d665",
   "metadata": {},
   "outputs": [],
   "source": [
    "df = weather.weather_history"
   ]
  },
  {
   "cell_type": "code",
   "execution_count": 30,
   "id": "74b1c26e",
   "metadata": {},
   "outputs": [],
   "source": [
    "import matplotlib.pyplot as plt\n",
    "import seaborn as sns"
   ]
  },
  {
   "cell_type": "code",
   "execution_count": 32,
   "id": "17f714f9",
   "metadata": {},
   "outputs": [
    {
     "data": {
      "text/plain": [
       "Text(0.5, 1.0, 'Mean temperature, °C')"
      ]
     },
     "execution_count": 32,
     "metadata": {},
     "output_type": "execute_result"
    },
    {
     "data": {
      "image/png": "[encoded data removed]",
      "text/plain": [
       "<Figure size 432x288 with 1 Axes>"
      ]
     },
     "metadata": {
      "needs_background": "light"
     },
     "output_type": "display_data"
    }
   ],
   "source": [
    "df.set_index('date')['tavg'][-365:].plot()\n",
    "plt.grid()\n",
    "plt.title('Mean temperature, °C')"
   ]
  },
  {
   "cell_type": "code",
   "execution_count": null,
   "id": "bb6cbf41",
   "metadata": {},
   "outputs": [],
   "source": []
  }
 ],
 "metadata": {
  "kernelspec": {
   "display_name": "Python 3 (ipykernel)",
   "language": "python",
   "name": "python3"
  },
  "language_info": {
   "codemirror_mode": {
    "name": "ipython",
    "version": 3
   },
   "file_extension": ".py",
   "mimetype": "text/x-python",
   "name": "python",
   "nbconvert_exporter": "python",
   "pygments_lexer": "ipython3",
   "version": "3.8.10"
  }
 },
 "nbformat": 4,
 "nbformat_minor": 5
}
